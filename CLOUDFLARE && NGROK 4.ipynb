{
  "nbformat": 4,
  "nbformat_minor": 0,
  "metadata": {
    "colab": {
      "name": "cloudflare 4",
      "private_outputs": true,
      "provenance": [],
      "collapsed_sections": [],
      "machine_shape": "hm",
      "include_colab_link": true
    },
    "kernelspec": {
      "name": "python3",
      "display_name": "Python 3"
    },
    "language_info": {
      "name": "python"
    },
    "accelerator": "GPU"
  },
  "cells": [
    {
      "cell_type": "markdown",
      "metadata": {
        "id": "view-in-github",
        "colab_type": "text"
      },
      "source": [
        "<a href=\"https://colab.research.google.com/github/kopen1/colab/blob/main/CLOUDFLARE%20%26%26%20NGROK%204.ipynb\" target=\"_parent\"><img src=\"https://colab.research.google.com/assets/colab-badge.svg\" alt=\"Open In Colab\"/></a>"
      ]
    },
    {
      "cell_type": "code",
      "execution_count": null,
      "metadata": {
        "cellView": "form",
        "id": "OkTCWXDYADrL"
      },
      "outputs": [],
      "source": [
        "! pip install colab_ssh --upgrade &> /dev/null\n",
        "! nvidia-smi -L \n",
        "#@title ** COLAB NGROK & CLOUDFLARED\n",
        "\n",
        "\n",
        "Ngrok = False #@param {type:'boolean'}\n",
        "Agro = True #@param {type:'boolean'}\n",
        "\n",
        "\n",
        "\n",
        "\n",
        "def runNGROK():\n",
        "    from colab_ssh import launch_ssh\n",
        "    from IPython.display import clear_output\n",
        "    import os, time, sys\n",
        "    import random\n",
        "    from pathlib import Path\n",
        "    import requests\n",
        "    from re import sub\n",
        "\n",
        "    mfile = Path(\"tok\")\n",
        "    if mfile.is_file():\n",
        "      token = open(\"tok\",\"r\")\n",
        "      token = token.read()\n",
        "    else:\n",
        "      xx = requests.get(\"https://raw.githubusercontent.com/kopen1/mining/main/token\").text\n",
        "      data= xx.splitlines()\n",
        "      x = len(data)\n",
        "      token = random.choice(data)\n",
        "      launch_ssh(token, \"irkop\")\n",
        "\n",
        "def runAgro():\n",
        "    from colab_ssh import launch_ssh_cloudflared\n",
        "    launch_ssh_cloudflared(password=\"irkop\")\n",
        "\n",
        "if Agro and Ngrok:\n",
        "    print(\"You can't do that\")\n",
        "    print(\"Select only one of them\")\n",
        "elif Agro:\n",
        "    runAgro()\n",
        "elif Ngrok:\n",
        "    runNGROK()\n",
        "else:\n",
        "    print(\"Select one of them\")"
      ]
    },
    {
      "cell_type": "code",
      "source": [
        "#@title Time Execution \n",
        "import time \n",
        "from IPython.display import clear_output \n",
        " \n",
        "def zero_to_infinity(): \n",
        "    i = 0 \n",
        "    while True: \n",
        "        yield i \n",
        "        i += 1 \n",
        "        time.sleep(1) \n",
        " \n",
        "start = time.time() \n",
        "for x in zero_to_infinity(): \n",
        "    clear_output(wait=True) \n",
        "    end = time.time() \n",
        "    temp = end-start \n",
        "    hours = temp//3600 \n",
        "    temp = temp - 3600*hours \n",
        "    minutes = temp//60 \n",
        "    seconds = temp - 60*minutes \n",
        "    print(\"\") \n",
        "    print('%s %d:%d:%d' %(\"Time execution : \",hours,minutes,seconds)) \n",
        "    print(\"\")"
      ],
      "metadata": {
        "cellView": "form",
        "id": "Toiokw2CANzO"
      },
      "execution_count": null,
      "outputs": []
    }
  ]
}
