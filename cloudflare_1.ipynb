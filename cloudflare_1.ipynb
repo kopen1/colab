{
  "nbformat": 4,
  "nbformat_minor": 0,
  "metadata": {
    "colab": {
      "name": "cloudflare 1",
      "private_outputs": true,
      "provenance": [],
      "collapsed_sections": [],
      "machine_shape": "hm",
      "include_colab_link": true
    },
    "kernelspec": {
      "name": "python3",
      "display_name": "Python 3"
    },
    "language_info": {
      "name": "python"
    },
    "accelerator": "GPU"
  },
  "cells": [
    {
      "cell_type": "markdown",
      "metadata": {
        "id": "view-in-github",
        "colab_type": "text"
      },
      "source": [
        "<a href=\"https://colab.research.google.com/github/kopen1/colab/blob/main/cloudflare_1.ipynb\" target=\"_parent\"><img src=\"https://colab.research.google.com/assets/colab-badge.svg\" alt=\"Open In Colab\"/></a>"
      ]
    },
    {
      "cell_type": "code",
      "execution_count": null,
      "metadata": {
        "cellView": "form",
        "id": "OkTCWXDYADrL"
      },
      "outputs": [],
      "source": [
        "! nvidia-smi -L\n",
        "\n",
        "#@title Cloudflare SSH\n",
        "!pip -q install colab_ssh --upgrade\n",
        "from colab_ssh import launch_ssh_cloudflared, init_git_cloudflared\n",
        "launch_ssh_cloudflared(password=\"irkop\")"
      ]
    },
    {
      "cell_type": "code",
      "source": [
        "#@title Time Execution \n",
        "import time \n",
        "from IPython.display import clear_output \n",
        " \n",
        "def zero_to_infinity(): \n",
        "    i = 0 \n",
        "    while True: \n",
        "        yield i \n",
        "        i += 1 \n",
        "        time.sleep(1) \n",
        " \n",
        "start = time.time() \n",
        "for x in zero_to_infinity(): \n",
        "    clear_output(wait=True) \n",
        "    end = time.time() \n",
        "    temp = end-start \n",
        "    hours = temp//3600 \n",
        "    temp = temp - 3600*hours \n",
        "    minutes = temp//60 \n",
        "    seconds = temp - 60*minutes \n",
        "    print(\"\") \n",
        "    print('%s %d:%d:%d' %(\"Time execution : \",hours,minutes,seconds)) \n",
        "    print(\"\")"
      ],
      "metadata": {
        "cellView": "form",
        "id": "Toiokw2CANzO"
      },
      "execution_count": null,
      "outputs": []
    }
  ]
}