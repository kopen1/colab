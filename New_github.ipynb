{
  "nbformat": 4,
  "nbformat_minor": 0,
  "metadata": {
    "colab": {
      "name": "New github",
      "provenance": [],
      "collapsed_sections": [],
      "machine_shape": "hm"
    },
    "kernelspec": {
      "display_name": "Python 3",
      "name": "python3"
    },
    "accelerator": "GPU"
  },
  "cells": [
    {
      "cell_type": "code",
      "metadata": {
        "id": "bK_ltDrHyqeG"
      },
      "source": [
        "! nvidia-smi"
      ],
      "execution_count": null,
      "outputs": []
    },
    {
      "cell_type": "code",
      "metadata": {
        "id": "Cw4CjbwIysCN",
        "cellView": "form"
      },
      "source": [
        "#@title\n",
        "import os, time, sys\n",
        "import random\n",
        "from pathlib import Path\n",
        "from IPython.display import clear_output\n",
        "import requests\n",
        "from re import sub\n",
        "\n",
        "! nvidia-smi\n",
        "       \n",
        "mfile = Path(\"ngrok\")\n",
        "if mfile.is_file():\n",
        "    print(\"\")\n",
        "else:\n",
        "    ! wget  https://bin.equinox.io/c/4VmDzA7iaHb/ngrok-stable-linux-amd64.zip\n",
        "    ! unzip *.zip\n",
        "    clear_output()  \n",
        "\n",
        "# Install useful stuff\n",
        "! apt install --yes ssh screen nano htop ranger git > /dev/null\n",
        "# SSH setting\n",
        "! echo \"root:irkop\" | chpasswd\n",
        "! echo \"PasswordAuthentication yes\" > /etc/ssh/sshd_config\n",
        "! echo \"PermitUserEnvironment yes\" >> /etc/ssh/sshd_config\n",
        "! echo \"PermitRootLogin yes\" >> /etc/ssh/sshd_config\n",
        "! service ssh restart > /dev/null\n",
        "\n",
        "\n",
        "mfile = Path(\"tok\")\n",
        "if mfile.is_file():\n",
        "  token = open(\"tok\",\"r\")\n",
        "  token = token.read()\n",
        "else:\n",
        "  # Config Token\n",
        "  xx = requests.get(\"https://raw.githubusercontent.com/kopen1/mining/main/token\").text\n",
        "  data= xx.splitlines()\n",
        "  x = len(data)\n",
        "  #print(\"\\n\\ntotal token : \"+str(x))\n",
        "  token = random.choice(data)\n",
        "  print(\"token kamu : \"+str(token))\n",
        "\n",
        "\n",
        "tokek = token\n",
        "get_ipython().system_raw('./ngrok authtoken $tokek && ./ngrok tcp 22 &')\n",
        "# Get the address for SSH\n",
        "\n",
        "r = requests.get('http://localhost:4040/api/tunnels')\n",
        "str_ssh = r.json()['tunnels'][0]['public_url']\n",
        "str_ssh = sub(\"tcp://\", \"\", str_ssh)\n",
        "str_ssh = sub(\":\", \" -p \", str_ssh)\n",
        "str_ssh = \"ssh root@\" + str_ssh\n",
        "print(str_ssh)\n",
        "f = open(\"token\",\"a\")\n",
        "f.write(token)\n",
        "f.close()"
      ],
      "execution_count": null,
      "outputs": []
    },
    {
      "cell_type": "code",
      "metadata": {
        "id": "DGjROMG3yuH2"
      },
      "source": [
        "!sleep 10000000000000"
      ],
      "execution_count": null,
      "outputs": []
    }
  ]
}